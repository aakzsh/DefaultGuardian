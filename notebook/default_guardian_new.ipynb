{
  "nbformat": 4,
  "nbformat_minor": 0,
  "metadata": {
    "colab": {
      "provenance": []
    },
    "kernelspec": {
      "name": "python3",
      "display_name": "Python 3"
    },
    "language_info": {
      "name": "python"
    }
  },
  "cells": [
    {
      "cell_type": "code",
      "source": [
        "pip install scikit-learn==1.3.2"
      ],
      "metadata": {
        "colab": {
          "base_uri": "https://localhost:8080/"
        },
        "id": "AWPgsh0uDW0a",
        "outputId": "53a2a8d8-e46b-483e-91c9-52cce83e127a"
      },
      "execution_count": 8,
      "outputs": [
        {
          "output_type": "stream",
          "name": "stdout",
          "text": [
            "Requirement already satisfied: scikit-learn==1.3.2 in /usr/local/lib/python3.10/dist-packages (1.3.2)\n",
            "Requirement already satisfied: numpy<2.0,>=1.17.3 in /usr/local/lib/python3.10/dist-packages (from scikit-learn==1.3.2) (1.23.5)\n",
            "Requirement already satisfied: scipy>=1.5.0 in /usr/local/lib/python3.10/dist-packages (from scikit-learn==1.3.2) (1.11.3)\n",
            "Requirement already satisfied: joblib>=1.1.1 in /usr/local/lib/python3.10/dist-packages (from scikit-learn==1.3.2) (1.3.2)\n",
            "Requirement already satisfied: threadpoolctl>=2.0.0 in /usr/local/lib/python3.10/dist-packages (from scikit-learn==1.3.2) (3.2.0)\n"
          ]
        }
      ]
    },
    {
      "cell_type": "code",
      "execution_count": 9,
      "metadata": {
        "colab": {
          "base_uri": "https://localhost:8080/"
        },
        "id": "hsOiRwNMR8K7",
        "outputId": "20da6d35-aff3-4ed2-c5cb-bd61439781a5"
      },
      "outputs": [
        {
          "output_type": "stream",
          "name": "stdout",
          "text": [
            "started fitting model\n",
            "Accuracy: 0.6394509525499941\n",
            "              precision    recall  f1-score   support\n",
            "\n",
            "  Successful       0.70      0.85      0.77     65068\n",
            "Unsuccessful       0.30      0.15      0.20     27893\n",
            "\n",
            "    accuracy                           0.64     92961\n",
            "   macro avg       0.50      0.50      0.48     92961\n",
            "weighted avg       0.58      0.64      0.60     92961\n",
            "\n"
          ]
        }
      ],
      "source": [
        "import pandas as pd\n",
        "from sklearn.model_selection import train_test_split\n",
        "from sklearn.ensemble import RandomForestClassifier\n",
        "from sklearn.preprocessing import LabelEncoder, OneHotEncoder\n",
        "from sklearn.metrics import accuracy_score, classification_report\n",
        "\n",
        "# Load the CSV file into a DataFrame\n",
        "data = pd.read_csv('/content/latest.csv')\n",
        "\n",
        "# Feature engineering - creating a new column for transaction type\n",
        "data['transaction_type'] = data.apply(lambda row: 1 if row['credit_amount'] != \"0\" else 0, axis=1)\n",
        "label_encoder = LabelEncoder()\n",
        "data['transaction_type'] = label_encoder.fit_transform(data['transaction_type'])\n",
        "\n",
        "data['date'] = label_encoder.fit_transform(data['date'])\n",
        "\n",
        "# Define features and target variable\n",
        "features = ['account_no', 'credit_amount', 'debit_amount', 'transaction_type']\n",
        "target = 'result'\n",
        "\n",
        "# Split the data into training and testing sets\n",
        "X = data[features]\n",
        "y = data[target]\n",
        "X_train, X_test, y_train, y_test = train_test_split(X, y, test_size=0.8, random_state=42)\n",
        "\n",
        "print(\"started fitting model\")\n",
        "# Train a RandomForestClassifier (you can choose other models as well)\n",
        "model = RandomForestClassifier(n_estimators=100, random_state=42)\n",
        "model.fit(X_train, y_train)\n",
        "\n",
        "# Make predictions on the test set\n",
        "y_pred = model.predict(X_test)\n",
        "print(\"Accuracy:\", accuracy_score(y_test, y_pred))\n",
        "print(classification_report(y_test, y_pred))\n",
        "\n"
      ]
    },
    {
      "cell_type": "code",
      "source": [
        "import json\n",
        "from sklearn.linear_model import LogisticRegression\n",
        "import sklearn.externals as extjoblib\n",
        "import joblib\n",
        "import pickle\n",
        "\n",
        "pickle.dump(model, open('model3.pkl', 'wb'))\n"
      ],
      "metadata": {
        "id": "8AQ4KrtviJXc"
      },
      "execution_count": 10,
      "outputs": []
    },
    {
      "cell_type": "code",
      "source": [
        "new_input = pd.DataFrame({\n",
        "    'account_no': [409000611074],\n",
        "    'credit_amount': [0],\n",
        "    'debit_amount': [9],\n",
        "    'transaction_type': 1\n",
        "})\n",
        "\n",
        "probability = model.predict_proba(new_input)\n",
        "print(\"Probability of being successful/unsuccessful:\", probability)"
      ],
      "metadata": {
        "colab": {
          "base_uri": "https://localhost:8080/"
        },
        "id": "qhYox4GvngVJ",
        "outputId": "253dce0a-9e01-49b6-900e-57046bbcf1b7"
      },
      "execution_count": 12,
      "outputs": [
        {
          "output_type": "stream",
          "name": "stdout",
          "text": [
            "Probability of being successful/unsuccessful: [[0.25720238 0.74279762]]\n"
          ]
        }
      ]
    }
  ]
}